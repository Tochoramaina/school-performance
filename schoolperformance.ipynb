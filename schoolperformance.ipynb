{
 "cells": [
  {
   "attachments": {},
   "cell_type": "markdown",
   "metadata": {},
   "source": [
    "pspspsspncb"
   ]
  },
  {
   "cell_type": "code",
   "execution_count": null,
   "metadata": {},
   "outputs": [],
   "source": [
    "# importing prerequisite libraries\n",
    "import pandas as pd\n",
    "import numpy as np \n",
    "import seaborn as sns\n",
    "import matplotlib.pyplot as pl"
   ]
  },
  {
   "attachments": {},
   "cell_type": "markdown",
   "metadata": {},
   "source": [
    "we are going to uploadour dataset from a local directory"
   ]
  },
  {
   "attachments": {},
   "cell_type": "markdown",
   "metadata": {},
   "source": [
    "this dataset can be found in www.kaggle/datasets"
   ]
  },
  {
   "cell_type": "code",
   "execution_count": 68,
   "metadata": {},
   "outputs": [
    {
     "data": {
      "text/html": [
       "<div>\n",
       "<style scoped>\n",
       "    .dataframe tbody tr th:only-of-type {\n",
       "        vertical-align: middle;\n",
       "    }\n",
       "\n",
       "    .dataframe tbody tr th {\n",
       "        vertical-align: top;\n",
       "    }\n",
       "\n",
       "    .dataframe thead th {\n",
       "        text-align: right;\n",
       "    }\n",
       "</style>\n",
       "<table border=\"1\" class=\"dataframe\">\n",
       "  <thead>\n",
       "    <tr style=\"text-align: right;\">\n",
       "      <th></th>\n",
       "      <th>gender</th>\n",
       "      <th>race/ethnicity</th>\n",
       "      <th>parental level of education</th>\n",
       "      <th>lunch</th>\n",
       "      <th>test preparation course</th>\n",
       "      <th>math score</th>\n",
       "      <th>reading score</th>\n",
       "      <th>writing score</th>\n",
       "    </tr>\n",
       "  </thead>\n",
       "  <tbody>\n",
       "    <tr>\n",
       "      <th>0</th>\n",
       "      <td>female</td>\n",
       "      <td>group B</td>\n",
       "      <td>bachelor's degree</td>\n",
       "      <td>standard</td>\n",
       "      <td>none</td>\n",
       "      <td>72</td>\n",
       "      <td>72</td>\n",
       "      <td>74</td>\n",
       "    </tr>\n",
       "    <tr>\n",
       "      <th>1</th>\n",
       "      <td>female</td>\n",
       "      <td>group C</td>\n",
       "      <td>some college</td>\n",
       "      <td>standard</td>\n",
       "      <td>completed</td>\n",
       "      <td>69</td>\n",
       "      <td>90</td>\n",
       "      <td>88</td>\n",
       "    </tr>\n",
       "    <tr>\n",
       "      <th>2</th>\n",
       "      <td>female</td>\n",
       "      <td>group B</td>\n",
       "      <td>master's degree</td>\n",
       "      <td>standard</td>\n",
       "      <td>none</td>\n",
       "      <td>90</td>\n",
       "      <td>95</td>\n",
       "      <td>93</td>\n",
       "    </tr>\n",
       "    <tr>\n",
       "      <th>3</th>\n",
       "      <td>male</td>\n",
       "      <td>group A</td>\n",
       "      <td>associate's degree</td>\n",
       "      <td>free/reduced</td>\n",
       "      <td>none</td>\n",
       "      <td>47</td>\n",
       "      <td>57</td>\n",
       "      <td>44</td>\n",
       "    </tr>\n",
       "    <tr>\n",
       "      <th>4</th>\n",
       "      <td>male</td>\n",
       "      <td>group C</td>\n",
       "      <td>some college</td>\n",
       "      <td>standard</td>\n",
       "      <td>none</td>\n",
       "      <td>76</td>\n",
       "      <td>78</td>\n",
       "      <td>75</td>\n",
       "    </tr>\n",
       "  </tbody>\n",
       "</table>\n",
       "</div>"
      ],
      "text/plain": [
       "   gender race/ethnicity parental level of education         lunch  \\\n",
       "0  female        group B           bachelor's degree      standard   \n",
       "1  female        group C                some college      standard   \n",
       "2  female        group B             master's degree      standard   \n",
       "3    male        group A          associate's degree  free/reduced   \n",
       "4    male        group C                some college      standard   \n",
       "\n",
       "  test preparation course  math score  reading score  writing score  \n",
       "0                    none          72             72             74  \n",
       "1               completed          69             90             88  \n",
       "2                    none          90             95             93  \n",
       "3                    none          47             57             44  \n",
       "4                    none          76             78             75  "
      ]
     },
     "execution_count": 68,
     "metadata": {},
     "output_type": "execute_result"
    }
   ],
   "source": [
    "#uploading dataset from a local folder\n",
    "df = pd.read_csv(r'../tochora/dd/datasets/StudentsPerformance.csv')\n",
    "#reading contents in the dataset\n",
    "df.head()"
   ]
  },
  {
   "cell_type": "markdown",
   "metadata": {},
   "source": []
  },
  {
   "cell_type": "code",
   "execution_count": 69,
   "metadata": {},
   "outputs": [
    {
     "data": {
      "text/plain": [
       "(1000, 8)"
      ]
     },
     "execution_count": 69,
     "metadata": {},
     "output_type": "execute_result"
    }
   ],
   "source": [
    "#dataset shape\n",
    "df.shape"
   ]
  },
  {
   "attachments": {},
   "cell_type": "markdown",
   "metadata": {},
   "source": [
    "this dataset has  1000 rows and 8 columns"
   ]
  },
  {
   "attachments": {},
   "cell_type": "markdown",
   "metadata": {},
   "source": [
    "checking missing values"
   ]
  },
  {
   "cell_type": "code",
   "execution_count": 70,
   "metadata": {},
   "outputs": [
    {
     "data": {
      "text/plain": [
       "gender                         0\n",
       "race/ethnicity                 0\n",
       "parental level of education    0\n",
       "lunch                          0\n",
       "test preparation course        0\n",
       "math score                     0\n",
       "reading score                  0\n",
       "writing score                  0\n",
       "dtype: int64"
      ]
     },
     "execution_count": 70,
     "metadata": {},
     "output_type": "execute_result"
    }
   ],
   "source": [
    "#looking for null values\n",
    "df.isnull().sum()"
   ]
  },
  {
   "attachments": {},
   "cell_type": "markdown",
   "metadata": {},
   "source": [
    "our dataset is clean since it does not contain any null values."
   ]
  },
  {
   "cell_type": "code",
   "execution_count": 71,
   "metadata": {},
   "outputs": [
    {
     "data": {
      "text/html": [
       "<style type=\"text/css\">\n",
       "#T_6e13e_row0_col0, #T_6e13e_row0_col1, #T_6e13e_row0_col2 {\n",
       "  background-color: #fcfdbf;\n",
       "  color: #000000;\n",
       "}\n",
       "#T_6e13e_row1_col0, #T_6e13e_row5_col0, #T_6e13e_row6_col1 {\n",
       "  background-color: #0a0822;\n",
       "  color: #f1f1f1;\n",
       "}\n",
       "#T_6e13e_row1_col1, #T_6e13e_row4_col0, #T_6e13e_row5_col1 {\n",
       "  background-color: #08071e;\n",
       "  color: #f1f1f1;\n",
       "}\n",
       "#T_6e13e_row1_col2, #T_6e13e_row5_col2 {\n",
       "  background-color: #090720;\n",
       "  color: #f1f1f1;\n",
       "}\n",
       "#T_6e13e_row2_col0 {\n",
       "  background-color: #010108;\n",
       "  color: #f1f1f1;\n",
       "}\n",
       "#T_6e13e_row2_col1, #T_6e13e_row3_col0, #T_6e13e_row3_col1, #T_6e13e_row3_col2 {\n",
       "  background-color: #000004;\n",
       "  color: #f1f1f1;\n",
       "}\n",
       "#T_6e13e_row2_col2 {\n",
       "  background-color: #010005;\n",
       "  color: #f1f1f1;\n",
       "}\n",
       "#T_6e13e_row4_col1 {\n",
       "  background-color: #060518;\n",
       "  color: #f1f1f1;\n",
       "}\n",
       "#T_6e13e_row4_col2 {\n",
       "  background-color: #06051a;\n",
       "  color: #f1f1f1;\n",
       "}\n",
       "#T_6e13e_row6_col0 {\n",
       "  background-color: #0d0a29;\n",
       "  color: #f1f1f1;\n",
       "}\n",
       "#T_6e13e_row6_col2 {\n",
       "  background-color: #0b0924;\n",
       "  color: #f1f1f1;\n",
       "}\n",
       "#T_6e13e_row7_col0 {\n",
       "  background-color: #140e36;\n",
       "  color: #f1f1f1;\n",
       "}\n",
       "#T_6e13e_row7_col1 {\n",
       "  background-color: #110c2f;\n",
       "  color: #f1f1f1;\n",
       "}\n",
       "#T_6e13e_row7_col2 {\n",
       "  background-color: #120d31;\n",
       "  color: #f1f1f1;\n",
       "}\n",
       "</style>\n",
       "<table id=\"T_6e13e\">\n",
       "  <thead>\n",
       "    <tr>\n",
       "      <th class=\"blank level0\" >&nbsp;</th>\n",
       "      <th id=\"T_6e13e_level0_col0\" class=\"col_heading level0 col0\" >math score</th>\n",
       "      <th id=\"T_6e13e_level0_col1\" class=\"col_heading level0 col1\" >reading score</th>\n",
       "      <th id=\"T_6e13e_level0_col2\" class=\"col_heading level0 col2\" >writing score</th>\n",
       "    </tr>\n",
       "  </thead>\n",
       "  <tbody>\n",
       "    <tr>\n",
       "      <th id=\"T_6e13e_level0_row0\" class=\"row_heading level0 row0\" >count</th>\n",
       "      <td id=\"T_6e13e_row0_col0\" class=\"data row0 col0\" >1000.000000</td>\n",
       "      <td id=\"T_6e13e_row0_col1\" class=\"data row0 col1\" >1000.000000</td>\n",
       "      <td id=\"T_6e13e_row0_col2\" class=\"data row0 col2\" >1000.000000</td>\n",
       "    </tr>\n",
       "    <tr>\n",
       "      <th id=\"T_6e13e_level0_row1\" class=\"row_heading level0 row1\" >mean</th>\n",
       "      <td id=\"T_6e13e_row1_col0\" class=\"data row1 col0\" >66.089000</td>\n",
       "      <td id=\"T_6e13e_row1_col1\" class=\"data row1 col1\" >69.169000</td>\n",
       "      <td id=\"T_6e13e_row1_col2\" class=\"data row1 col2\" >68.054000</td>\n",
       "    </tr>\n",
       "    <tr>\n",
       "      <th id=\"T_6e13e_level0_row2\" class=\"row_heading level0 row2\" >std</th>\n",
       "      <td id=\"T_6e13e_row2_col0\" class=\"data row2 col0\" >15.163080</td>\n",
       "      <td id=\"T_6e13e_row2_col1\" class=\"data row2 col1\" >14.600192</td>\n",
       "      <td id=\"T_6e13e_row2_col2\" class=\"data row2 col2\" >15.195657</td>\n",
       "    </tr>\n",
       "    <tr>\n",
       "      <th id=\"T_6e13e_level0_row3\" class=\"row_heading level0 row3\" >min</th>\n",
       "      <td id=\"T_6e13e_row3_col0\" class=\"data row3 col0\" >0.000000</td>\n",
       "      <td id=\"T_6e13e_row3_col1\" class=\"data row3 col1\" >17.000000</td>\n",
       "      <td id=\"T_6e13e_row3_col2\" class=\"data row3 col2\" >10.000000</td>\n",
       "    </tr>\n",
       "    <tr>\n",
       "      <th id=\"T_6e13e_level0_row4\" class=\"row_heading level0 row4\" >25%</th>\n",
       "      <td id=\"T_6e13e_row4_col0\" class=\"data row4 col0\" >57.000000</td>\n",
       "      <td id=\"T_6e13e_row4_col1\" class=\"data row4 col1\" >59.000000</td>\n",
       "      <td id=\"T_6e13e_row4_col2\" class=\"data row4 col2\" >57.750000</td>\n",
       "    </tr>\n",
       "    <tr>\n",
       "      <th id=\"T_6e13e_level0_row5\" class=\"row_heading level0 row5\" >50%</th>\n",
       "      <td id=\"T_6e13e_row5_col0\" class=\"data row5 col0\" >66.000000</td>\n",
       "      <td id=\"T_6e13e_row5_col1\" class=\"data row5 col1\" >70.000000</td>\n",
       "      <td id=\"T_6e13e_row5_col2\" class=\"data row5 col2\" >69.000000</td>\n",
       "    </tr>\n",
       "    <tr>\n",
       "      <th id=\"T_6e13e_level0_row6\" class=\"row_heading level0 row6\" >75%</th>\n",
       "      <td id=\"T_6e13e_row6_col0\" class=\"data row6 col0\" >77.000000</td>\n",
       "      <td id=\"T_6e13e_row6_col1\" class=\"data row6 col1\" >79.000000</td>\n",
       "      <td id=\"T_6e13e_row6_col2\" class=\"data row6 col2\" >79.000000</td>\n",
       "    </tr>\n",
       "    <tr>\n",
       "      <th id=\"T_6e13e_level0_row7\" class=\"row_heading level0 row7\" >max</th>\n",
       "      <td id=\"T_6e13e_row7_col0\" class=\"data row7 col0\" >100.000000</td>\n",
       "      <td id=\"T_6e13e_row7_col1\" class=\"data row7 col1\" >100.000000</td>\n",
       "      <td id=\"T_6e13e_row7_col2\" class=\"data row7 col2\" >100.000000</td>\n",
       "    </tr>\n",
       "  </tbody>\n",
       "</table>\n"
      ],
      "text/plain": [
       "<pandas.io.formats.style.Styler at 0x27163588f70>"
      ]
     },
     "execution_count": 71,
     "metadata": {},
     "output_type": "execute_result"
    }
   ],
   "source": [
    "#statistics\n",
    "df.describe().style.background_gradient('magma')"
   ]
  },
  {
   "attachments": {},
   "cell_type": "markdown",
   "metadata": {},
   "source": [
    "Data visualisation"
   ]
  },
  {
   "cell_type": "code",
   "execution_count": 72,
   "metadata": {},
   "outputs": [
    {
     "data": {
      "image/png": "[encoded data removed]",
      "text/plain": [
       "<Figure size 1152x432 with 3 Axes>"
      ]
     },
     "metadata": {
      "needs_background": "light"
     },
     "output_type": "display_data"
    }
   ],
   "source": [
    "#fig, axes = plt.figure(figsize=(16, 6))\n",
    "fig, axes = plt.subplots(1,3, figsize=(16, 6))\n",
    "sns.barplot(x=df['gender'], y=df['math score'], palette='winter', ax=axes[0]).set(title=\"Relationship between gender and math score\")\n",
    "sns.barplot(x=df['gender'], y=df['reading score'], palette='magma', ax=axes[1]).set(title=\"Relationship between gender and reading score\")\n",
    "sns.barplot(x=df['gender'], y=df['writing score'], palette='magma', ax=axes[2]).set(title=\"Relationship between gender and writing score\")\n",
    "plt.show()\n",
    "\n"
   ]
  },
  {
   "attachments": {},
   "cell_type": "markdown",
   "metadata": {},
   "source": [
    "from above plots it shows that:"
   ]
  },
  {
   "attachments": {},
   "cell_type": "markdown",
   "metadata": {},
   "source": [
    "figure 1: male bar is bigger compared to females showing that males perform better at maths compared to females."
   ]
  },
  {
   "attachments": {},
   "cell_type": "markdown",
   "metadata": {},
   "source": [
    "figure2: Female have a higher bar compared to males showing that they excel at reading comapred to males."
   ]
  },
  {
   "attachments": {},
   "cell_type": "markdown",
   "metadata": {},
   "source": [
    "figure3 : the bar noted female is bigger compared to males depicting that they perform better in wriring compared to males."
   ]
  },
  {
   "cell_type": "code",
   "execution_count": 73,
   "metadata": {},
   "outputs": [
    {
     "data": {
      "text/plain": [
       "some college          226\n",
       "associate's degree    222\n",
       "high school           196\n",
       "some high school      179\n",
       "bachelor's degree     118\n",
       "master's degree        59\n",
       "Name: parental level of education, dtype: int64"
      ]
     },
     "execution_count": 73,
     "metadata": {},
     "output_type": "execute_result"
    }
   ],
   "source": [
    "# entries and their frequency in the parent level of education column\n",
    "df['parental level of education'].value_counts()"
   ]
  },
  {
   "attachments": {},
   "cell_type": "markdown",
   "metadata": {},
   "source": [
    "in this column, we have 2 columns that are represent the same thing that is high school and some high school.we are goin to aggregate them into one"
   ]
  },
  {
   "cell_type": "code",
   "execution_count": 74,
   "metadata": {},
   "outputs": [],
   "source": [
    "df.replace('some high school', 'high school', inplace=True)"
   ]
  },
  {
   "cell_type": "code",
   "execution_count": 75,
   "metadata": {},
   "outputs": [
    {
     "data": {
      "image/png": "[encoded data removed]",
      "text/plain": [
       "<Figure size 1656x432 with 2 Axes>"
      ]
     },
     "metadata": {
      "needs_background": "light"
     },
     "output_type": "display_data"
    }
   ],
   "source": [
    "plt.figure(figsize=(23,6))\n",
    "plt.subplot(121)\n",
    "sns.barplot(x=df['parental level of education'], y=df['math score'],)\n",
    "plt.title('Relationship between parents level of education and students math score')\n",
    "plt.subplot(122)\n",
    "sns.barplot(x=df['parental level of education'], y=df['reading score'])\n",
    "plt.title('Relationship between parents level of education and students reading score')\n",
    "plt.show()"
   ]
  },
  {
   "attachments": {},
   "cell_type": "markdown",
   "metadata": {},
   "source": [
    "from above plots:"
   ]
  },
  {
   "attachments": {},
   "cell_type": "markdown",
   "metadata": {},
   "source": [
    "figure 1: it shows that parents that had masters and bachelor degrees have the highest bars, follwed by associate degree with high school having the smallest bar. This shows that students whose parents had masters or bachelor degrees performed well in maths compared to ther students."
   ]
  },
  {
   "attachments": {},
   "cell_type": "markdown",
   "metadata": {},
   "source": [
    "figure2: it shows that parents with masters and bachelor degrees have the highest bar while those only reached highschool had the smallest bar in the group.This shows that students whose parents had masters or bachelor degrees excelled in reading compared to other students while those whose parents only attained high school education performed poorly in the group."
   ]
  },
  {
   "cell_type": "code",
   "execution_count": 76,
   "metadata": {},
   "outputs": [
    {
     "data": {
      "image/png": "[encoded data removed]",
      "text/plain": [
       "<Figure size 864x432 with 1 Axes>"
      ]
     },
     "metadata": {
      "needs_background": "light"
     },
     "output_type": "display_data"
    }
   ],
   "source": [
    "plt.figure(figsize=(12, 6))\n",
    "sns.countplot(x=df['parental level of education'])\n",
    "plt.title(\"Dstribution of level of parent education\")\n",
    "plt.show()"
   ]
  },
  {
   "attachments": {},
   "cell_type": "markdown",
   "metadata": {},
   "source": [
    "from the plot above, High school has the highest bar, followed by some college while masters degree has the smallest bar."
   ]
  },
  {
   "attachments": {},
   "cell_type": "markdown",
   "metadata": {},
   "source": [
    "consclusion: Parents who had only attained high school education were the most, followed by those who had attended college, associate degree while parents who has master degree we the least in the group."
   ]
  },
  {
   "cell_type": "code",
   "execution_count": 77,
   "metadata": {},
   "outputs": [
    {
     "data": {
      "image/png": "[encoded data removed]",
      "text/plain": [
       "<Figure size 720x432 with 1 Axes>"
      ]
     },
     "metadata": {
      "needs_background": "light"
     },
     "output_type": "display_data"
    }
   ],
   "source": [
    "plt.figure(figsize=(10, 6))\n",
    "sns.countplot(x=df['race/ethnicity'])\n",
    "plt.title(\"Distribution of race\")\n",
    "plt.show()"
   ]
  },
  {
   "attachments": {},
   "cell_type": "markdown",
   "metadata": {},
   "source": [
    "Group C have the highest bar, follwed by group D while group A had the lowest bar.this shows that Group C race had the highest number of people, follwed by group D while group A had the least number of people in the school."
   ]
  },
  {
   "cell_type": "code",
   "execution_count": 78,
   "metadata": {},
   "outputs": [
    {
     "data": {
      "text/plain": [
       "Text(0.5, 1.0, 'Distribution of test preparation course')"
      ]
     },
     "execution_count": 78,
     "metadata": {},
     "output_type": "execute_result"
    },
    {
     "data": {
      "image/png": "[encoded data removed]",
      "text/plain": [
       "<Figure size 576x432 with 1 Axes>"
      ]
     },
     "metadata": {
      "needs_background": "light"
     },
     "output_type": "display_data"
    }
   ],
   "source": [
    "plt.figure(figsize=(8, 6))\n",
    "sns.countplot(x=df[\"test preparation course\"], hue=df['gender'])\n",
    "plt.title(\"Distribution of test preparation course\")"
   ]
  },
  {
   "attachments": {},
   "cell_type": "markdown",
   "metadata": {},
   "source": [
    "Students who did not complete the tests were more compared to those who completed as shown by the bars above."
   ]
  },
  {
   "attachments": {},
   "cell_type": "markdown",
   "metadata": {},
   "source": [
    "Correlation"
   ]
  },
  {
   "attachments": {},
   "cell_type": "markdown",
   "metadata": {},
   "source": [
    "correlation refers to linear relationship between two variables where one variable might be directly on indirectly related to one another at either equal or uneaqual proportion. Correlation can either be negative or positive correlated depending on the sighn of the index. Negative sign = negative correlation and positive sighn = positive correlation."
   ]
  },
  {
   "attachments": {},
   "cell_type": "markdown",
   "metadata": {},
   "source": [
    "correlation index of 0 to 0.25 is considered weak correlation, 2.5 to 7.5 is considered fairly correlated while 7.5 to 1 shows that the values are highly \n",
    "correlated"
   ]
  },
  {
   "cell_type": "code",
   "execution_count": null,
   "metadata": {},
   "outputs": [
    {
     "data": {
      "image/png": "[encoded data removed]",
      "text/plain": [
       "<Figure size 720x576 with 2 Axes>"
      ]
     },
     "metadata": {
      "needs_background": "light"
     },
     "output_type": "display_data"
    }
   ],
   "source": [
    "plt.figure(figsize=(10, 8))\n",
    "sns.heatmap(df.corr(), annot=True, cmap='magma')\n",
    "plt.title(\"Correlation between various variables\")\n",
    "plt.show()"
   ]
  },
  {
   "attachments": {},
   "cell_type": "markdown",
   "metadata": {},
   "source": [
    "lunch has a value of 29% in relation to average score, followed by test preparation course with 26%. this shows that there is fair correlation between lunch, test perparation course and average score. The rest have either weak negative or positive correlation among them."
   ]
  },
  {
   "attachments": {},
   "cell_type": "markdown",
   "metadata": {},
   "source": [
    "Outlier Analysis"
   ]
  },
  {
   "cell_type": "code",
   "execution_count": 80,
   "metadata": {},
   "outputs": [
    {
     "data": {
      "text/plain": [
       "Text(0.5, 1.0, 'Outlier detection in math score')"
      ]
     },
     "execution_count": 80,
     "metadata": {},
     "output_type": "execute_result"
    },
    {
     "data": {
      "image/png": "[encoded data removed]",
      "text/plain": [
       "<Figure size 432x288 with 1 Axes>"
      ]
     },
     "metadata": {
      "needs_background": "light"
     },
     "output_type": "display_data"
    }
   ],
   "source": [
    "sns.boxplot(x=df['math score'])\n",
    "plt.title(\"Outlier detection in math score\")"
   ]
  },
  {
   "attachments": {},
   "cell_type": "markdown",
   "metadata": {},
   "source": [
    "the figure above shows that there are few outliers thus they is no need of removing them to avoid overfitting."
   ]
  },
  {
   "cell_type": "code",
   "execution_count": 81,
   "metadata": {},
   "outputs": [
    {
     "data": {
      "text/plain": [
       "Text(0.5, 1.0, 'Outlier detection in reading score')"
      ]
     },
     "execution_count": 81,
     "metadata": {},
     "output_type": "execute_result"
    },
    {
     "data": {
      "image/png": "[encoded data removed]",
      "text/plain": [
       "<Figure size 432x288 with 1 Axes>"
      ]
     },
     "metadata": {
      "needs_background": "light"
     },
     "output_type": "display_data"
    }
   ],
   "source": [
    "sns.boxplot(x=df['reading score'])\n",
    "plt.title(\"Outlier detection in reading score\")"
   ]
  },
  {
   "cell_type": "code",
   "execution_count": null,
   "metadata": {},
   "outputs": [
    {
     "data": {
      "text/plain": [
       "gender                         object\n",
       "race/ethnicity                 object\n",
       "parental level of education    object\n",
       "lunch                          object\n",
       "test preparation course        object\n",
       "math score                      int64\n",
       "reading score                   int64\n",
       "writing score                   int64\n",
       "dtype: object"
      ]
     },
     "execution_count": 53,
     "metadata": {},
     "output_type": "execute_result"
    }
   ],
   "source": [
    "#checking datatypes\n",
    "df.dtypes"
   ]
  },
  {
   "attachments": {},
   "cell_type": "markdown",
   "metadata": {},
   "source": [
    "here we are going to create a new column by aggregating scores of the three subjects and finding their mean."
   ]
  },
  {
   "cell_type": "code",
   "execution_count": null,
   "metadata": {},
   "outputs": [],
   "source": [
    "df['average_score'] = (df['math score'] + df['reading score'] + df['writing score'])/3\n",
    "\n"
   ]
  },
  {
   "cell_type": "code",
   "execution_count": null,
   "metadata": {},
   "outputs": [
    {
     "data": {
      "text/html": [
       "<div>\n",
       "<style scoped>\n",
       "    .dataframe tbody tr th:only-of-type {\n",
       "        vertical-align: middle;\n",
       "    }\n",
       "\n",
       "    .dataframe tbody tr th {\n",
       "        vertical-align: top;\n",
       "    }\n",
       "\n",
       "    .dataframe thead th {\n",
       "        text-align: right;\n",
       "    }\n",
       "</style>\n",
       "<table border=\"1\" class=\"dataframe\">\n",
       "  <thead>\n",
       "    <tr style=\"text-align: right;\">\n",
       "      <th></th>\n",
       "      <th>gender</th>\n",
       "      <th>race/ethnicity</th>\n",
       "      <th>parental level of education</th>\n",
       "      <th>lunch</th>\n",
       "      <th>test preparation course</th>\n",
       "      <th>math score</th>\n",
       "      <th>reading score</th>\n",
       "      <th>writing score</th>\n",
       "      <th>average_score</th>\n",
       "    </tr>\n",
       "  </thead>\n",
       "  <tbody>\n",
       "    <tr>\n",
       "      <th>0</th>\n",
       "      <td>female</td>\n",
       "      <td>group B</td>\n",
       "      <td>bachelor's degree</td>\n",
       "      <td>standard</td>\n",
       "      <td>none</td>\n",
       "      <td>72</td>\n",
       "      <td>72</td>\n",
       "      <td>74</td>\n",
       "      <td>72.67</td>\n",
       "    </tr>\n",
       "    <tr>\n",
       "      <th>1</th>\n",
       "      <td>female</td>\n",
       "      <td>group C</td>\n",
       "      <td>some college</td>\n",
       "      <td>standard</td>\n",
       "      <td>completed</td>\n",
       "      <td>69</td>\n",
       "      <td>90</td>\n",
       "      <td>88</td>\n",
       "      <td>82.33</td>\n",
       "    </tr>\n",
       "    <tr>\n",
       "      <th>2</th>\n",
       "      <td>female</td>\n",
       "      <td>group B</td>\n",
       "      <td>master's degree</td>\n",
       "      <td>standard</td>\n",
       "      <td>none</td>\n",
       "      <td>90</td>\n",
       "      <td>95</td>\n",
       "      <td>93</td>\n",
       "      <td>92.67</td>\n",
       "    </tr>\n",
       "    <tr>\n",
       "      <th>3</th>\n",
       "      <td>male</td>\n",
       "      <td>group A</td>\n",
       "      <td>associate's degree</td>\n",
       "      <td>free/reduced</td>\n",
       "      <td>none</td>\n",
       "      <td>47</td>\n",
       "      <td>57</td>\n",
       "      <td>44</td>\n",
       "      <td>49.33</td>\n",
       "    </tr>\n",
       "    <tr>\n",
       "      <th>4</th>\n",
       "      <td>male</td>\n",
       "      <td>group C</td>\n",
       "      <td>some college</td>\n",
       "      <td>standard</td>\n",
       "      <td>none</td>\n",
       "      <td>76</td>\n",
       "      <td>78</td>\n",
       "      <td>75</td>\n",
       "      <td>76.33</td>\n",
       "    </tr>\n",
       "  </tbody>\n",
       "</table>\n",
       "</div>"
      ],
      "text/plain": [
       "   gender race/ethnicity parental level of education         lunch  \\\n",
       "0  female        group B           bachelor's degree      standard   \n",
       "1  female        group C                some college      standard   \n",
       "2  female        group B             master's degree      standard   \n",
       "3    male        group A          associate's degree  free/reduced   \n",
       "4    male        group C                some college      standard   \n",
       "\n",
       "  test preparation course  math score  reading score  writing score  \\\n",
       "0                    none          72             72             74   \n",
       "1               completed          69             90             88   \n",
       "2                    none          90             95             93   \n",
       "3                    none          47             57             44   \n",
       "4                    none          76             78             75   \n",
       "\n",
       "   average_score  \n",
       "0          72.67  \n",
       "1          82.33  \n",
       "2          92.67  \n",
       "3          49.33  \n",
       "4          76.33  "
      ]
     },
     "execution_count": 55,
     "metadata": {},
     "output_type": "execute_result"
    }
   ],
   "source": [
    "# rounding off values in average scores into 2 decimal places\n",
    "df['average_score'] = df['average_score'].round(2)\n",
    "df.head()"
   ]
  },
  {
   "attachments": {},
   "cell_type": "markdown",
   "metadata": {},
   "source": [
    "we are going to drop 3 columns that is math score, reading score and writing score sinec we dont need them anymore as they are represented by average score."
   ]
  },
  {
   "cell_type": "code",
   "execution_count": null,
   "metadata": {},
   "outputs": [],
   "source": [
    "# dropping unnecessary columns\n",
    "df.drop(columns=['math score', 'reading score', 'writing score'], axis=1, inplace=True)"
   ]
  },
  {
   "attachments": {},
   "cell_type": "markdown",
   "metadata": {},
   "source": [
    "Dummy variables"
   ]
  },
  {
   "attachments": {},
   "cell_type": "markdown",
   "metadata": {},
   "source": [
    "there are columns that have values that are qualitative in nature.we need to convert them into dummy variables in order to facilitate their use in the model."
   ]
  },
  {
   "cell_type": "code",
   "execution_count": null,
   "metadata": {},
   "outputs": [],
   "source": [
    "# dummy variables\n",
    "df['gender'] = df['gender'].apply({\"female\":0, \"male\": 1}.get)\n",
    "df['parental level of education'] = df['parental level of education'].apply({\"bachelor's degree\": 0, \"some college\": 1, \"master's degree\":2, \"associate's degree\":3, 'high school': 4}.get)\n",
    "df['race/ethnicity'] = df['race/ethnicity'].apply({\"group A\":0, \"group B\": 1, \"group C\": 3, \"group D\": 4, \"group E\": 5}.get)\n",
    "df['test preparation course'] = df['test preparation course'].apply({\"none\": 0, 'completed': 1}.get)\n",
    "df['lunch'] = df['lunch'].apply({\"free/reduced\":0, 'standard':1}.get)\n"
   ]
  },
  {
   "cell_type": "code",
   "execution_count": null,
   "metadata": {},
   "outputs": [],
   "source": [
    "#df['gender'] = pd.Categorical(df['gender']).codes\n",
    "#df['parental level of education'] = pd.Categorical(df['parental level of education']).codes\n",
    "#df['lunch'] = pd.Categorical(df['lunch']).codes\n",
    "#df['test preparation course'] = pd.Categorical(df['test preparation course']).codes\n",
    "#df['race/ethnicity'] = pd.Categorical(df['race/ethnicity']).codes\n",
    "#df.head()"
   ]
  },
  {
   "attachments": {},
   "cell_type": "markdown",
   "metadata": {},
   "source": [
    "here we are going to split our data into x and y variables in order to feed them in our model."
   ]
  },
  {
   "cell_type": "code",
   "execution_count": null,
   "metadata": {},
   "outputs": [],
   "source": [
    "# splitting our data into x and y variables\n",
    "x = df.drop(\"test preparation course\", axis=1)\n",
    "y = df['test preparation course']"
   ]
  },
  {
   "cell_type": "code",
   "execution_count": null,
   "metadata": {},
   "outputs": [],
   "source": [
    "#further splitting x and y variables into training and testing data\n",
    "from sklearn.model_selection import train_test_split\n",
    "x_train,x_test, y_train, y_test = train_test_split(x, y, test_size=0.20, random_state=49)"
   ]
  },
  {
   "attachments": {},
   "cell_type": "markdown",
   "metadata": {},
   "source": [
    "feature scaling"
   ]
  },
  {
   "attachments": {},
   "cell_type": "markdown",
   "metadata": {},
   "source": [
    "here we are going to normalize our data using StandrdScaler whichs normalizes feature by using this formulae"
   ]
  },
  {
   "attachments": {},
   "cell_type": "markdown",
   "metadata": {},
   "source": [
    "x` = x – mean(x)/sqrt(var(x)) whic means it  substarcts a mean of a feature x from x and divides it by the squareroot of the variance of feature x.The resulting features have values between 0 and 1."
   ]
  },
  {
   "cell_type": "code",
   "execution_count": null,
   "metadata": {},
   "outputs": [],
   "source": [
    "# preprocessing data\n",
    "from sklearn.preprocessing import StandardScaler\n",
    "scaler = StandardScaler()\n",
    "x_train = scaler.fit_transform(x_train)\n",
    "x_test = scaler.transform(x_test)"
   ]
  },
  {
   "cell_type": "code",
   "execution_count": null,
   "metadata": {},
   "outputs": [
    {
     "name": "stdout",
     "output_type": "stream",
     "text": [
      "0.705\n"
     ]
    }
   ],
   "source": [
    "# modelling\n",
    "from sklearn.linear_model import LogisticRegression\n",
    "lr = LogisticRegression()\n",
    "#fitting our model\n",
    "lr.fit(x_train,y_train)\n",
    "score = lr.score(x_test, y_test)\n",
    "print(score)"
   ]
  },
  {
   "cell_type": "code",
   "execution_count": null,
   "metadata": {},
   "outputs": [
    {
     "name": "stdout",
     "output_type": "stream",
     "text": [
      "              precision    recall  f1-score   support\n",
      "\n",
      "           0       0.88      0.75      0.81       166\n",
      "           1       0.29      0.50      0.37        34\n",
      "\n",
      "    accuracy                           0.70       200\n",
      "   macro avg       0.58      0.62      0.59       200\n",
      "weighted avg       0.78      0.70      0.73       200\n",
      "\n"
     ]
    }
   ],
   "source": [
    "# making predictions\n",
    "pred = lr.predict(x_test)\n",
    "from sklearn.metrics import classification_report, confusion_matrix, ConfusionMatrixDisplay\n",
    "print(classification_report(pred, y_test))"
   ]
  },
  {
   "cell_type": "markdown",
   "metadata": {},
   "source": []
  },
  {
   "cell_type": "code",
   "execution_count": null,
   "metadata": {},
   "outputs": [
    {
     "data": {
      "text/plain": [
       "<sklearn.metrics._plot.confusion_matrix.ConfusionMatrixDisplay at 0x2716396cd30>"
      ]
     },
     "execution_count": 64,
     "metadata": {},
     "output_type": "execute_result"
    },
    {
     "data": {
      "image/png": "[encoded data removed]",
      "text/plain": [
       "<Figure size 432x288 with 2 Axes>"
      ]
     },
     "metadata": {
      "needs_background": "light"
     },
     "output_type": "display_data"
    }
   ],
   "source": [
    "# a display of the resultant matrix from the model\n",
    "cm = confusion_matrix(pred, y_test, labels=lr.classes_)\n",
    "display = ConfusionMatrixDisplay(confusion_matrix=cm, display_labels=lr.classes_)\n",
    "display.plot()"
   ]
  }
 ],
 "metadata": {
  "kernelspec": {
   "display_name": "Python 3.9.9 64-bit",
   "language": "python",
   "name": "python3"
  },
  "language_info": {
   "codemirror_mode": {
    "name": "ipython",
    "version": 3
   },
   "file_extension": ".py",
   "mimetype": "text/x-python",
   "name": "python",
   "nbconvert_exporter": "python",
   "pygments_lexer": "ipython3",
   "version": "3.9.9"
  },
  "orig_nbformat": 4,
  "vscode": {
   "interpreter": {
    "hash": "843afd09e8106438b128dab73a29344ccea6560bcd1a636ecaea26e653e2cafe"
   }
  }
 },
 "nbformat": 4,
 "nbformat_minor": 2
}
